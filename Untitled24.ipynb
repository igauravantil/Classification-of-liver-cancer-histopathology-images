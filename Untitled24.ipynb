{
  "nbformat": 4,
  "nbformat_minor": 0,
  "metadata": {
    "colab": {
      "name": "Untitled24.ipynb",
      "provenance": [],
      "collapsed_sections": []
    },
    "kernelspec": {
      "name": "python3",
      "display_name": "Python 3"
    }
  },
  "cells": [
    {
      "cell_type": "code",
      "metadata": {
        "id": "c_EXXUx-YgHV"
      },
      "source": [
        "import cv2\n",
        "import matplotlib.pyplot as plt\n",
        "from sklearn.feature_extraction import image\n",
        "import numpy as np\n",
        "import glob\n",
        "from tensorflow.keras.applications.resnet50 import ResNet50\n",
        "from keras.preprocessing import image as ig\n",
        "from tensorflow.keras.applications.resnet50 import preprocess_input, decode_predictions\n",
        "import tensorflow as tf\n",
        "from keras.preprocessing.image import ImageDataGenerator,array_to_img,img_to_array,load_img\n",
        "from keras.models import Sequential\n",
        "from keras.layers import Dense, ReLU, LeakyReLU, PReLU, ELU, Dropout, InputLayer, Softmax\n",
        "from sklearn.model_selection import train_test_split\n",
        "import keras\n",
        "from sklearn.metrics import accuracy_score\n",
        "from keras.utils import to_categorical\n",
        "from keras.models import Sequential\n",
        "from keras.layers import Dense\n",
        "from keras.losses import Loss\n",
        "from matplotlib import pyplot\n",
        "from numpy import mean\n",
        "from numpy import std\n",
        "from numpy import array\n",
        "from numpy import argmax\n",
        "from numpy import tensordot\n",
        "from numpy.linalg import norm\n",
        "from scipy.optimize import differential_evolution\n",
        "import random\n",
        "from sklearn.metrics import confusion_matrix,f1_score\n",
        "from sklearn.metrics import precision_recall_fscore_support\n",
        "from keras.preprocessing.image import ImageDataGenerator,array_to_img,img_to_array,load_img"
      ],
      "execution_count": null,
      "outputs": []
    },
    {
      "cell_type": "code",
      "metadata": {
        "id": "bW0hjGAUYwbL"
      },
      "source": [
        "a1 = glob.glob('/content/drive/My Drive/normal/*')\n",
        "a2 = glob.glob('/content/drive/My Drive/cancer/*')"
      ],
      "execution_count": null,
      "outputs": []
    },
    {
      "cell_type": "code",
      "metadata": {
        "id": "yXRES_-mezTs"
      },
      "source": [
        "datagen=ImageDataGenerator(\n",
        "    rotation_range=50,\n",
        "    width_shift_range=0.4,\n",
        "    height_shift_range=0.4,\n",
        "    fill_mode=\"wrap\",\n",
        "    horizontal_flip=True,\n",
        "    vertical_flip=True,\n",
        "    zoom_range=0.2\n",
        ")"
      ],
      "execution_count": null,
      "outputs": []
    },
    {
      "cell_type": "markdown",
      "metadata": {
        "id": "XcwljTeIfAXS"
      },
      "source": [
        "**Normal Data Augumentation**"
      ]
    },
    {
      "cell_type": "code",
      "metadata": {
        "id": "hgbFsMH4ezVw"
      },
      "source": [
        "for j in len(normal):\n",
        "  img=cv2.imread(normal[i])\n",
        "  img=img.reshape((1,)+img.shape)\n",
        "  i=0\n",
        "  for batch in datagen.flow(img1,batch_size=1,save_to_dir='/content/drive/My Drive/Normal_augument/',save_prefix='Normal_vector',save_format='png'):\n",
        "    i=i+1\n",
        "    if i>40:\n",
        "      break"
      ],
      "execution_count": null,
      "outputs": []
    },
    {
      "cell_type": "markdown",
      "metadata": {
        "id": "kyreKHrlhMy4"
      },
      "source": [
        "**Abnormal Data Augumentation**"
      ]
    },
    {
      "cell_type": "code",
      "metadata": {
        "id": "Yv5Mi1bCehNc"
      },
      "source": [
        "for j in len(abnormal):\n",
        "  img=cv2.imread(abnormal[i])\n",
        "  img=img.reshape((1,)+img.shape)\n",
        "  i=0\n",
        "  for batch in datagen.flow(img,batch_size=1,save_to_dir='/content/drive/My Drive/Abnormal_augument/',save_prefix='Abnormal_vector',save_format='png'):\n",
        "    i=i+1\n",
        "    if i>20:\n",
        "      break"
      ],
      "execution_count": null,
      "outputs": []
    },
    {
      "cell_type": "code",
      "metadata": {
        "id": "FgF0RC9Zi3Fp"
      },
      "source": [
        "a1 = glob.glob('/content/drive/My Drive/normal/*')\n",
        "b1 = glob.glob('/content/drive/My Drive/Normal_augument/*')\n",
        "a2 = glob.glob('/content/drive/My Drive/cancer/*')\n",
        "b2 = glob.glob('/content/drive/My Drive/Abnormal_augument/*')"
      ],
      "execution_count": null,
      "outputs": []
    },
    {
      "cell_type": "code",
      "metadata": {
        "id": "4FPXR-ggZaIq"
      },
      "source": [
        "a1.extend(b1)\n",
        "normal=a1\n",
        "a2.extend(b2)\n",
        "abnormal=a2"
      ],
      "execution_count": null,
      "outputs": []
    },
    {
      "cell_type": "markdown",
      "metadata": {
        "id": "Yruz7JAehVeG"
      },
      "source": [
        "**ResNet50**"
      ]
    },
    {
      "cell_type": "code",
      "metadata": {
        "id": "Br__rkA2ZSkn"
      },
      "source": [
        "resnet=ResNet50(include_top=False,weights='imagenet',pooling=\"avg\")\n",
        "for layers in resnet.layers:\n",
        "  layers.trainable=False"
      ],
      "execution_count": null,
      "outputs": []
    },
    {
      "cell_type": "markdown",
      "metadata": {
        "id": "RC6JcKyWaXPm"
      },
      "source": [
        "**Abnormal Image Preprocessing**"
      ]
    },
    {
      "cell_type": "code",
      "metadata": {
        "id": "vLMYUMMcZTfl"
      },
      "source": [
        "for z in range(len(abnormal)):\n",
        "    img = cv2.imread(abnormal[z])\n",
        "    cv2.imwrite(\"Original.png\",img)\n",
        "    hsv_img = cv2.cvtColor(img,cv2.COLOR_BGR2HSV)\n",
        "    cv2.imwrite(\"HSV_Image.png\",hsv_img)\n",
        "    h=hsv_img[:,:,0]\n",
        "    s=hsv_img[:,:,1]\n",
        "    v=hsv_img[:,:,2]\n",
        "    ret1,h1 = cv2.threshold(h,0,179,cv2.THRESH_TRUNC+cv2.THRESH_OTSU)\n",
        "    ret2,s1 = cv2.threshold(s,0,255,cv2.THRESH_TRUNC+cv2.THRESH_OTSU)\n",
        "    otsu_img = cv2.merge([h1,s1,v])\n",
        "    cv2.imwrite(\"Otsu's.png\",otsu_img)\n",
        "    rgb_img = cv2.cvtColor(otsu_img,cv2.COLOR_HSV2RGB)\n",
        "    lab_img=cv2.cvtColor(rgb_img,cv2.COLOR_RGB2LAB)\n",
        "    cv2.imwrite(\"Lab Image.png\",lab_img)\n",
        "    l=lab_img[:,:,0]\n",
        "    a=lab_img[:,:,1]\n",
        "    b=lab_img[:,:,2]\n",
        "    cla=cv2.createCLAHE(clipLimit=3.0,tileGridSize=(8,8))\n",
        "    cla_img=cla.apply(l)\n",
        "    final_img = cv2.merge((cla_img,a,b))\n",
        "    cv2.imwrite(\"FInal RGB.png\",final_img)\n",
        "    final_img=cv2.cvtColor(final_lab_img,cv2.COLOR_LAB2RGB)\n",
        "    l,b,h = final_img.shape\n",
        "    pat = int((l*b)/(224*224))*3\n",
        "    patches = image.extract_patches_2d(final_img,(224,224),pat)\n",
        "    temp=0\n",
        "    preds_lists=[]\n",
        "    print(len(patches))\n",
        "    for i in range(len(patches)):\n",
        "        a = patches[i][:,:,1]\n",
        "        hist = cv2.calcHist([a],[0],None,[256],[0,256])\n",
        "        temp = ((hist[127]+hist[128]+hist[129])/(224*224))*100\n",
        "        if(temp<50):\n",
        "            flag = cv2.cvtColor(patches[i],cv2.COLOR_LAB2RGB)\n",
        "            x=np.expand_dims(flag,axis=0)\n",
        "            x=preprocess_input(x)\n",
        "            preds=resnet.predict(x)\n",
        "            preds_lists.append(preds)\n",
        "    d=[]\n",
        "    for j in range(2048):\n",
        "      pnorm = 0\n",
        "      p = 3\n",
        "      for g in range(len(preds_lists)):\n",
        "        r=preds_lists[g]\n",
        "        pnorm += np.abs(r[0][j]) ** p\n",
        "      if len(preds_lists)>0:\n",
        "        pnorm=pnorm/len(preds_lists)\n",
        "      else:\n",
        "        continue\n",
        "      h=pnorm ** (1. / p)\n",
        "      d.append(h)\n",
        "    t=np.array(d)\n",
        "    print(t.shape)\n",
        "    np.save(\"/content/drive/My Drive/Abnormal_Image_Vectors/cancer\"+str(z)+\".npy\",t,allow_pickle=True)"
      ],
      "execution_count": null,
      "outputs": []
    },
    {
      "cell_type": "markdown",
      "metadata": {
        "id": "IU_l11Afae8H"
      },
      "source": [
        "**Normal Image Preprocessing**"
      ]
    },
    {
      "cell_type": "code",
      "metadata": {
        "id": "xVVp7hTIZ8Ja"
      },
      "source": [
        "for z in range(len(normal)):\n",
        "    img = cv2.imread(normal[z])\n",
        "    cv2.imwrite(\"Original.png\",img)\n",
        "    hsv_img = cv2.cvtColor(img,cv2.COLOR_BGR2HSV)\n",
        "    cv2.imwrite(\"HSV_Image.png\",hsv_img)\n",
        "    h=hsv_img[:,:,0]\n",
        "    s=hsv_img[:,:,1]\n",
        "    v=hsv_img[:,:,2]\n",
        "    ret1,h1 = cv2.threshold(h,0,179,cv2.THRESH_TRUNC+cv2.THRESH_OTSU)  \n",
        "    ret2,s1 = cv2.threshold(s,0,255,cv2.THRESH_TRUNC+cv2.THRESH_OTSU)  \n",
        "    otsu_img = cv2.merge([h1,s1,v])\n",
        "    cv2.imwrite(\"Otsu's.png\",otsu_img)\n",
        "    rgb_img = cv2.cvtColor(otsu_img,cv2.COLOR_HSV2RGB)\n",
        "    lab_img=cv2.cvtColor(rgb_img,cv2.COLOR_RGB2LAB)  \n",
        "    cv2.imwrite(\"Lab Image.png\",lab_img)\n",
        "    l=lab_img[:,:,0]\n",
        "    a=lab_img[:,:,1]\n",
        "    b=lab_img[:,:,2]\n",
        "    cla=cv2.createCLAHE(clipLimit=3.0,tileGridSize=(8,8))\n",
        "    cla_img=cla.apply(l)\n",
        "    final_img = cv2.merge((cla_img,a,b))\n",
        "    cv2.imwrite(\"FInal RGB.png\",final_img)\n",
        "    final_img=cv2.cvtColor(final_lab_img,cv2.COLOR_LAB2RGB)\n",
        "    l,b,h = final_img.shape\n",
        "    pat = int((l*b)/(224*224))*3\n",
        "    patches = image.extract_patches_2d(final_img,(224,224),pat)\n",
        "    temp=0\n",
        "    preds_lists=[]\n",
        "    print(len(patches))\n",
        "    for i in range(len(patches)):\n",
        "        a = patches[i][:,:,1]\n",
        "        hist = cv2.calcHist([a],[0],None,[256],[0,256])\n",
        "        temp = ((hist[127]+hist[128]+hist[129])/(224*224))*100\n",
        "        if(temp<50):\n",
        "            flag = cv2.cvtColor(patches[i],cv2.COLOR_LAB2RGB)\n",
        "            x=np.expand_dims(flag,axis=0)\n",
        "            x=preprocess_input(x)\n",
        "            preds=resnet.predict(x)\n",
        "            preds_lists.append(preds)\n",
        "    d=[]\n",
        "    for j in range(2048):\n",
        "      pnorm = 0\n",
        "      p = 3\n",
        "      for g in range(len(preds_lists)):\n",
        "        r=preds_lists[g]\n",
        "        pnorm += np.abs(r[0][j]) ** p\n",
        "      if len(preds_lists)>0:\n",
        "        pnorm=pnorm/len(preds_lists)\n",
        "      else:\n",
        "        continue\n",
        "      h=pnorm ** (1. / p)\n",
        "      d.append(h)\n",
        "    t=np.array(d)\n",
        "    print(t.shape)\n",
        "    np.save(\"/content/drive/My Drive/Normal_Image_Vectors/cancer\"+str(z)+\".npy\",t,allow_pickle=True)"
      ],
      "execution_count": null,
      "outputs": []
    },
    {
      "cell_type": "markdown",
      "metadata": {
        "id": "QRD9_xLkawwR"
      },
      "source": [
        "**Feature Selection**"
      ]
    },
    {
      "cell_type": "code",
      "metadata": {
        "id": "BYXS02ngakMQ"
      },
      "source": [
        "a_vectors=glob.glob('/content/drive/My Drive/Abnormal_Image_Vectors/*')\n",
        "n_vectors=glob.glob('/content/drive/My Drive/Normal_Image_Vectors/*')\n",
        "print(len(a_vectors))\n",
        "print(len(n_vectors))"
      ],
      "execution_count": null,
      "outputs": []
    },
    {
      "cell_type": "code",
      "metadata": {
        "id": "q0Z8Y0dsbaR4"
      },
      "source": [
        "d1=[1.0]\n",
        "v1=[]\n",
        "for i in range(len(n_vectors)):\n",
        "  v1.append(d1)\n",
        "print(len(v1))\n",
        "n_dic={}\n",
        "n_dic= {n_vectors[i]:v1[i] for i in range(len(v1))}\n",
        "d2=[0.0]\n",
        "v2=[]\n",
        "for i in range(len(a_vectors)):\n",
        "  v2.append(d2)\n",
        "print(len(v2))\n",
        "a_dic={}\n",
        "a_dic= {a_vectors[i]:v2[i] for i in range(len(v2))}"
      ],
      "execution_count": null,
      "outputs": []
    },
    {
      "cell_type": "code",
      "metadata": {
        "id": "ZvYdj9DibetS"
      },
      "source": [
        "a_vectors.extend(n_vectors)\n",
        "a_dic.update(n_dic)\n",
        "random.shuffle(a_vectors)"
      ],
      "execution_count": null,
      "outputs": []
    },
    {
      "cell_type": "code",
      "metadata": {
        "id": "TC8Y2Ll6beym"
      },
      "source": [
        "x=[]\n",
        "y=[]\n",
        "for i in range(len(a_vectors)):\n",
        "  a=np.load(a_vectors[i],allow_pickle=True)\n",
        "  if(a.shape[0]>0):\n",
        "    b=a[0:104]\n",
        "    c=a[1944:2048]\n",
        "    d=np.append(b,c)\n",
        "    x.append(d)\n",
        "    y.append(np.array(a_dic[a_vectors[i]]))"
      ],
      "execution_count": null,
      "outputs": []
    },
    {
      "cell_type": "code",
      "metadata": {
        "id": "2D6-3wdNbe6j"
      },
      "source": [
        "x_train=x[:3059]\n",
        "x_test=x[3059:3715]\n",
        "x_val=x[3715:4370]\n",
        "y_train=y[:3059]\n",
        "y_test=y[3059:3715]\n",
        "y_val=y[3715:4370]\n",
        "x_train=np.array(x_train)\n",
        "x_test=np.array(x_test)\n",
        "x_val=np.array(x_val)\n",
        "y_train=np.array(y_train)\n",
        "y_test=np.array(y_test)\n",
        "y_val=np.array(y_val)"
      ],
      "execution_count": null,
      "outputs": []
    },
    {
      "cell_type": "markdown",
      "metadata": {
        "id": "FXRMXcdybxTK"
      },
      "source": [
        "**Ensemble Model Designing**"
      ]
    },
    {
      "cell_type": "code",
      "metadata": {
        "id": "tqdh_mfrbykH"
      },
      "source": [
        "def fit_model(trainX, trainy):\n",
        "    trainy_enc = to_categorical(trainy)\n",
        "    model=Sequential()\n",
        "    model.add(InputLayer(input_shape=(200)))\n",
        "    model.add(Dropout(0.4))\n",
        "    model.add(Dense(units=200, activation='relu',kernel_initializer='he_uniform'))\n",
        "    model.add(Dropout(0.4))\n",
        "    model.add(Dense(units=100, activation='relu',kernel_initializer='he_uniform'))\n",
        "    model.add(Dense(units=2, kernel_initializer='glorot_uniform',activation='softmax'))\n",
        "    model.compile(optimizer=tf.keras.optimizers.Adam(learning_rate=0.001),loss=tf.keras.losses.binary_crossentropy,metrics=tf.keras.metrics.categorical_accuracy)\n",
        "    model.fit(x_train,trainy_enc,epochs=10,batch_size=24)\n",
        "    return model"
      ],
      "execution_count": null,
      "outputs": []
    },
    {
      "cell_type": "markdown",
      "metadata": {
        "id": "zzApSAszdhRH"
      },
      "source": [
        "**Model Training**"
      ]
    },
    {
      "cell_type": "code",
      "metadata": {
        "id": "c7kHLbkUbe_k"
      },
      "source": [
        "n_members = 10\n",
        "members = [fit_model(x_train,y_train) for _ in range(n_members)]"
      ],
      "execution_count": null,
      "outputs": []
    },
    {
      "cell_type": "markdown",
      "metadata": {
        "id": "JmJdF-J-dmmZ"
      },
      "source": [
        "**Prediction and calculating the means from all models**"
      ]
    },
    {
      "cell_type": "code",
      "metadata": {
        "id": "-2Miy_zAbfE5"
      },
      "source": [
        "y_test_preds = []\n",
        "y_val_preds = []\n",
        "for i in range(10):\n",
        "  y_test_preds.append(members[i].predict(x_test))\n",
        "  y_val_preds.append(members[i].predict(x_val))"
      ],
      "execution_count": null,
      "outputs": []
    },
    {
      "cell_type": "code",
      "metadata": {
        "id": "f3ExinkXbfJ1"
      },
      "source": [
        "y_test_preds_mean = []\n",
        "y_val_preds_mean = []\n",
        "for i in range(len(y_test_preds[0])):\n",
        "  temp1 = 0\n",
        "  for j in range(10):\n",
        "    temp1 += y_test_preds[j][i]\n",
        "  y_test_preds_mean.append(temp1/10)\n",
        "for i in range(len(y_val_preds[0])):\n",
        "  temp2 = 0\n",
        "  for j in range(10):\n",
        "    temp2 += y_val_preds[j][i]\n",
        "  y_val_preds_mean.append(temp2/10)"
      ],
      "execution_count": null,
      "outputs": []
    },
    {
      "cell_type": "code",
      "metadata": {
        "id": "Is5ZqCVZbfMR"
      },
      "source": [
        "y_test_final_pred = []\n",
        "y_val_final_pred = []\n",
        "for i in range(len(y_test_preds_mean)):\n",
        "  if(y_test_preds_mean[i][0]>0.5):\n",
        "    y_test_final_pred.append(0)\n",
        "  else:\n",
        "    y_test_final_pred.append(1)\n",
        "for i in range(len(y_val_preds_mean)):\n",
        "  if(y_val_preds_mean[i][0]>0.5):\n",
        "    y_val_final_pred.append(0)\n",
        "  else:\n",
        "    y_val_final_pred.append(1)"
      ],
      "execution_count": null,
      "outputs": []
    },
    {
      "cell_type": "markdown",
      "metadata": {
        "id": "xQfa4J8Od5wk"
      },
      "source": [
        "**Accuracy Scores**"
      ]
    },
    {
      "cell_type": "code",
      "metadata": {
        "id": "eeMEQ0bpbfHp"
      },
      "source": [
        "test_acc_score = accuracy_score(y_test,y_test_final_pred)\n",
        "val_acc_score = accuracy_score(y_val,y_val_final_pred)\n",
        "print(test_acc_score,val_acc_score)"
      ],
      "execution_count": null,
      "outputs": []
    },
    {
      "cell_type": "markdown",
      "metadata": {
        "id": "erunn8E_d86X"
      },
      "source": [
        "**Confusion Matrices**"
      ]
    },
    {
      "cell_type": "code",
      "metadata": {
        "id": "1icbvEsKbfCZ"
      },
      "source": [
        "test_con_mat = confusion_matrix(y_test,y_test_final_pred)\n",
        "val_con_mat = confusion_matrix(y_val,y_val_final_pred)"
      ],
      "execution_count": null,
      "outputs": []
    },
    {
      "cell_type": "markdown",
      "metadata": {
        "id": "H92sf9V8eICw"
      },
      "source": [
        "**Recall, Precisions, F1 Scores**"
      ]
    },
    {
      "cell_type": "code",
      "metadata": {
        "id": "KCYjaK64be85"
      },
      "source": [
        "test_pr = precision_recall_fscore_support(y_test, y_test_final_pred, average='micro')\n",
        "val_pr = precision_recall_fscore_support(y_val, y_val_final_pred, average='micro')"
      ],
      "execution_count": null,
      "outputs": []
    },
    {
      "cell_type": "code",
      "metadata": {
        "id": "csxiAJ33be3v"
      },
      "source": [
        "precision = [test_pr[0],val_pr[0]]\n",
        "recall = [test_pr[1],val_pr[1]]\n",
        "accuracy = [test_acc_score,val_acc_score]"
      ],
      "execution_count": null,
      "outputs": []
    },
    {
      "cell_type": "code",
      "metadata": {
        "id": "ni06Msjjbev8"
      },
      "source": [
        "test_data = np.array([test_pr[0],test_pr[1],test_acc_score])\n",
        "val_data = np.array([val_pr[0],val_pr[1],val_acc_score])"
      ],
      "execution_count": null,
      "outputs": []
    },
    {
      "cell_type": "code",
      "metadata": {
        "id": "R1gUKR4qdPpk"
      },
      "source": [
        "test_data = np.array([test_pr[0],test_pr[1],test_acc_score])\n",
        "val_data = np.array([val_pr[0],val_pr[1],val_acc_score])"
      ],
      "execution_count": null,
      "outputs": []
    },
    {
      "cell_type": "markdown",
      "metadata": {
        "id": "ivDr67bOeO6f"
      },
      "source": [
        "**Data Visualization**"
      ]
    },
    {
      "cell_type": "code",
      "metadata": {
        "id": "dY_MB3pFbegk"
      },
      "source": [
        "x = np.arange(len(test_data))\n",
        "\n",
        "fig, ax = plt.subplots(figsize=(5,5))\n",
        "index = np.arange(len(test_data))\n",
        "testbar = ax.bar(index-(0.35/2),test_data,0.35,label='Test Data')\n",
        "valbar = ax.bar(index+(0.35/2),val_data,0.35,label='Validation Data')\n",
        "\n",
        "ax.set_xticks(index)\n",
        "ax.set_xticklabels(['Precision',\"Recall\",'Score'])\n",
        "ax.legend()\n",
        "plt.savefig('multiple graph.png', dpi=300, bbox_inches='tight')\n",
        "plt.show()"
      ],
      "execution_count": null,
      "outputs": []
    },
    {
      "cell_type": "code",
      "metadata": {
        "id": "QY6P56DXdSSw"
      },
      "source": [
        "test_f1 = f1_score(y_test,y_test_final_pred)\n",
        "val_f1 = f1_score(y_val,y_val_final_pred)"
      ],
      "execution_count": null,
      "outputs": []
    },
    {
      "cell_type": "code",
      "metadata": {
        "id": "GQ7VQGxGdSbe"
      },
      "source": [
        "x = np.arange(len(test_data))\n",
        "test_graph_data = np.array([test_pr[0],test_pr[1],test_acc_score,test_f1])\n",
        "fig, ax = plt.subplots(figsize=(5,5))\n",
        "index = np.arange(len(test_graph_data))\n",
        "testbar = ax.bar(index,test_graph_data,0.35,label='Test Data')\n",
        "\n",
        "ax.set_xticks(index)\n",
        "ax.set_xticklabels(['Precision',\"Recall\",'Score','f1 score'])\n",
        "\n",
        "plt.ylabel('Score')\n",
        "ax.legend()\n",
        "\n",
        "plt.savefig('test graph.png', dpi=300, bbox_inches='tight')\n",
        "\n",
        "plt.show()\n"
      ],
      "execution_count": null,
      "outputs": []
    },
    {
      "cell_type": "code",
      "metadata": {
        "id": "Wr_BjR1KdSd5"
      },
      "source": [
        "x = np.arange(len(test_data))\n",
        "val_graph_data = np.array([val_pr[0],val_pr[1],val_acc_score,val_f1])\n",
        "fig, ax = plt.subplots(figsize=(5,5))\n",
        "index = np.arange(len(val_graph_data))\n",
        "valbar = ax.bar(index,val_graph_data,0.35,label='Val Data')\n",
        "\n",
        "ax.set_xticks(index)\n",
        "ax.set_xticklabels(['Precision',\"Recall\",'Score','f1 score'])\n",
        "ax.legend()\n",
        "\n",
        "plt.show()\n",
        "plt.savefig('plot.png', dpi=300, bbox_inches='tight')"
      ],
      "execution_count": null,
      "outputs": []
    }
  ]
}